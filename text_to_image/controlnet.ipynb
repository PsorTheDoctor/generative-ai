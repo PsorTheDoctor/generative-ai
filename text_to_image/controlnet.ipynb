{
  "cells": [
    {
      "cell_type": "markdown",
      "metadata": {
        "id": "view-in-github",
        "colab_type": "text"
      },
      "source": [
        "<a href=\"https://colab.research.google.com/github/PsorTheDoctor/artificial-intelligence/blob/master/modern_approach/text_to_image/controlnet.ipynb\" target=\"_parent\"><img src=\"https://colab.research.google.com/assets/colab-badge.svg\" alt=\"Open In Colab\"/></a>"
      ]
    },
    {
      "cell_type": "markdown",
      "source": [
        "#ControlNet"
      ],
      "metadata": {
        "id": "Bf3xeNYHbEPk"
      }
    },
    {
      "cell_type": "code",
      "execution_count": null,
      "metadata": {
        "id": "Z0Uf4z6JUD4r"
      },
      "outputs": [],
      "source": [
        "!sudo apt-get install aria2\n",
        "!git clone -b cuda https://github.com/camenduru/ControlNet\n",
        "!pip install -q gradio==3.16.2 timm==0.6.12 addict==2.4.0 yapf==0.32.0 pytorch-lightning==1.9.1 einops==0.3.0 open_clip_torch==2.0.2 omegaconf==2.1.1 transformers==4.19.2 --pre xformers triton\n",
        "\n",
        "!aria2c --console-log-level=error -c -x 16 -k 1M -s 16 https://huggingface.co/ckpt/ControlNet/resolve/main/control_sd15_normal.pth -d /content/ControlNet/models -o control_sd15_normal.pth\n",
        "!aria2c --console-log-level=error -c -x 16 -k 1M -s 16 https://huggingface.co/ckpt/ControlNet/resolve/main/dpt_hybrid-midas-501f0c75.pt -d /content/ControlNet/annotator/ckpts -o dpt_hybrid-midas-501f0c75.pt\n",
        "!sed -i \"s@block.launch(server_name='0.0.0.0')@block.launch(debug=True, share=True)@\" /content/ControlNet/gradio_normal2image.py"
      ]
    },
    {
      "cell_type": "code",
      "execution_count": null,
      "metadata": {
        "id": "mxvRurrmXc4D"
      },
      "outputs": [],
      "source": [
        "%cd /content/ControlNet\n",
        "!python gradio_normal2image.py"
      ]
    }
  ],
  "metadata": {
    "accelerator": "GPU",
    "colab": {
      "provenance": [],
      "include_colab_link": true
    },
    "gpuClass": "standard",
    "kernelspec": {
      "display_name": "Python 3",
      "name": "python3"
    },
    "language_info": {
      "name": "python"
    }
  },
  "nbformat": 4,
  "nbformat_minor": 0
}