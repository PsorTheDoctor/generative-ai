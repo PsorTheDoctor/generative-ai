{
  "nbformat": 4,
  "nbformat_minor": 0,
  "metadata": {
    "colab": {
      "provenance": [],
      "authorship_tag": "ABX9TyNJTbnhPu6g8OMe0h/KxVFb",
      "include_colab_link": true
    },
    "kernelspec": {
      "name": "python3",
      "display_name": "Python 3"
    },
    "language_info": {
      "name": "python"
    },
    "accelerator": "GPU",
    "gpuClass": "standard"
  },
  "cells": [
    {
      "cell_type": "markdown",
      "metadata": {
        "id": "view-in-github",
        "colab_type": "text"
      },
      "source": [
        "<a href=\"https://colab.research.google.com/github/PsorTheDoctor/artificial-intelligence/blob/master/modern_approach/text_to_video/tune_a_video.ipynb\" target=\"_parent\"><img src=\"https://colab.research.google.com/assets/colab-badge.svg\" alt=\"Open In Colab\"/></a>"
      ]
    },
    {
      "cell_type": "markdown",
      "source": [
        "#Tune-A-Video"
      ],
      "metadata": {
        "id": "iXvo7_XmI0IC"
      }
    },
    {
      "cell_type": "code",
      "source": [
        "!git clone https://github.com/showlab/Tune-A-Video.git\n",
        "%cd Tune-A-Video/\n",
        "%pip install -r requirements.txt"
      ],
      "metadata": {
        "id": "Qe4YmezdKXdx"
      },
      "execution_count": null,
      "outputs": []
    },
    {
      "cell_type": "code",
      "source": [
        "from tuneavideo.pipelines.pipeline_tuneavideo import TuneAVideoPipeline\n",
        "from tuneavideo.models.unet import UNet3DConditionModel\n",
        "from tuneavideo.util import save_videos_grid\n",
        "import torch\n",
        "\n",
        "model_id = 'Tune-A-Video-library/a-man-is-surfing'\n",
        "unet = UNet3DConditionModel.from_pretrained(\n",
        "    model_id, subfolder='unet', torch_dtype=torch.float16\n",
        ").to('cuda')\n",
        "pipe = TuneAVideoPipeline.from_pretrained(\n",
        "    \"CompVis/stable-diffusion-v1-4\", unet=unet, torch_dtype=torch.float16\n",
        ").to(\"cuda\")"
      ],
      "metadata": {
        "id": "F-dNqwUdH1rq"
      },
      "execution_count": null,
      "outputs": []
    },
    {
      "cell_type": "code",
      "source": [
        "prompt = 'a panda is surfing'\n",
        "video = pipe(prompt, video_length=8, height=256, width=256, num_inference_steps=50, guidance_scale=7.5).videos\n",
        "save_videos_grid(video, f'/content/{prompt}.gif')"
      ],
      "metadata": {
        "id": "ZvEj8bANMb-R"
      },
      "execution_count": null,
      "outputs": []
    }
  ]
}