{
  "nbformat": 4,
  "nbformat_minor": 0,
  "metadata": {
    "colab": {
      "provenance": [],
      "authorship_tag": "ABX9TyM5HD+dUuaL2asJopOmozYK",
      "include_colab_link": true
    },
    "kernelspec": {
      "name": "python3",
      "display_name": "Python 3"
    },
    "language_info": {
      "name": "python"
    },
    "gpuClass": "standard",
    "accelerator": "GPU"
  },
  "cells": [
    {
      "cell_type": "markdown",
      "metadata": {
        "id": "view-in-github",
        "colab_type": "text"
      },
      "source": [
        "<a href=\"https://colab.research.google.com/github/PsorTheDoctor/generative-ai/blob/master/video_diffusion.ipynb\" target=\"_parent\"><img src=\"https://colab.research.google.com/assets/colab-badge.svg\" alt=\"Open In Colab\"/></a>"
      ]
    },
    {
      "cell_type": "markdown",
      "source": [
        "#Text-to-Video synthesis"
      ],
      "metadata": {
        "id": "mJbP6FmkxMtG"
      }
    },
    {
      "cell_type": "code",
      "execution_count": null,
      "metadata": {
        "id": "n0oxbVA0W02F"
      },
      "outputs": [],
      "source": [
        "!pip install -q modelscope open_clip_torch pytorch_lightning"
      ]
    },
    {
      "cell_type": "code",
      "source": [
        "# Inserting the line that casts a tensor to cuda in dependency code\n",
        "!sed -i '14i\\    tensor=tensor.to(\"cuda\")' /usr/local/lib/python3.9/dist-packages/modelscope/models/multi_modal/video_synthesis/diffusion.py"
      ],
      "metadata": {
        "id": "XSQtOKmcXB07"
      },
      "execution_count": 2,
      "outputs": []
    },
    {
      "cell_type": "code",
      "source": [
        "from modelscope.pipelines import pipeline\n",
        "from modelscope.outputs import OutputKeys\n",
        "from torch import autocast"
      ],
      "metadata": {
        "colab": {
          "base_uri": "https://localhost:8080/"
        },
        "id": "uR9CmhpCXDOj",
        "outputId": "c16c4ff1-3059-4603-84e8-16bab2412181"
      },
      "execution_count": 3,
      "outputs": [
        {
          "output_type": "stream",
          "name": "stderr",
          "text": [
            "2023-03-19 20:23:38,997 - modelscope - INFO - PyTorch version 1.13.1+cu116 Found.\n",
            "2023-03-19 20:23:39,005 - modelscope - INFO - TensorFlow version 2.11.0 Found.\n",
            "2023-03-19 20:23:39,006 - modelscope - INFO - Loading ast index from /root/.cache/modelscope/ast_indexer\n",
            "2023-03-19 20:23:39,010 - modelscope - INFO - No valid ast index found from /root/.cache/modelscope/ast_indexer, generating ast index from prebuilt!\n",
            "2023-03-19 20:23:39,119 - modelscope - INFO - Loading done! Current index file version is 1.4.1, with md5 c7dcc650402312d3f6e1f28d5a1bc1a3 and a total number of 842 components indexed\n"
          ]
        }
      ]
    },
    {
      "cell_type": "code",
      "source": [
        "# Execution time is approx. 20 mins on not bad GPU\n",
        "with autocast(\"cuda\"):\n",
        "  p = pipeline('text-to-video-synthesis', 'damo/text-to-video-synthesis')\n",
        "  test_text = {\n",
        "      'text': 'A swimming sea turtle'\n",
        "  }\n",
        "  output_video_path = p(test_text)[OutputKeys.OUTPUT_VIDEO]\n",
        "  print('output_video_path:', output_video_path)"
      ],
      "metadata": {
        "colab": {
          "base_uri": "https://localhost:8080/"
        },
        "id": "YI88o4yPYNbL",
        "outputId": "5a741da4-20fa-40dc-8fd2-c05233a0a1e7"
      },
      "execution_count": 4,
      "outputs": [
        {
          "output_type": "stream",
          "name": "stderr",
          "text": [
            "2023-03-19 20:23:48,928 - modelscope - INFO - Model revision not specified, use the latest revision: v1.0.3\n",
            "Downloading: 100%|██████████| 1.04k/1.04k [00:00<00:00, 3.07MB/s]\n",
            "Downloading: 100%|██████████| 3.67G/3.67G [04:31<00:00, 14.6MB/s]\n",
            "Downloading: 100%|██████████| 3.35k/3.35k [00:00<00:00, 3.75MB/s]\n",
            "Downloading: 100%|██████████| 5.26G/5.26G [06:27<00:00, 14.6MB/s]\n",
            "Downloading: 100%|██████████| 4.86G/4.86G [05:53<00:00, 14.7MB/s]\n",
            "2023-03-19 20:41:38,120 - modelscope - INFO - initiate model from /root/.cache/modelscope/hub/damo/text-to-video-synthesis\n",
            "2023-03-19 20:41:38,122 - modelscope - INFO - initiate model from location /root/.cache/modelscope/hub/damo/text-to-video-synthesis.\n",
            "2023-03-19 20:41:38,125 - modelscope - INFO - initialize model from /root/.cache/modelscope/hub/damo/text-to-video-synthesis\n",
            "2023-03-19 20:43:20,031 - modelscope - WARNING - No preprocessor field found in cfg.\n",
            "2023-03-19 20:43:20,041 - modelscope - WARNING - No val key and type key found in preprocessor domain of configuration.json file.\n",
            "2023-03-19 20:43:20,042 - modelscope - WARNING - Cannot find available config to build preprocessor at mode inference, current config: {'model_dir': '/root/.cache/modelscope/hub/damo/text-to-video-synthesis'}. trying to build by task and model information.\n",
            "2023-03-19 20:43:20,043 - modelscope - WARNING - No preprocessor key ('latent-text-to-video-synthesis', 'text-to-video-synthesis') found in PREPROCESSOR_MAP, skip building preprocessor.\n",
            "2023-03-19 20:43:20,048 - modelscope - WARNING - task text-to-video-synthesis input definition is missing\n",
            "2023-03-19 20:44:24,422 - modelscope - WARNING - task text-to-video-synthesis output keys are missing\n"
          ]
        },
        {
          "output_type": "stream",
          "name": "stdout",
          "text": [
            "output_video_path: /tmp/tmp5vm1d6d6.mp4\n"
          ]
        }
      ]
    },
    {
      "cell_type": "code",
      "source": [
        "# Execution time for every next prompt is approx. 1 min\n",
        "with autocast(\"cuda\"):\n",
        "  test_text = {\n",
        "      'text': 'A teddy bear running in Times Square'\n",
        "  }\n",
        "  output_video_path = p(test_text,)[OutputKeys.OUTPUT_VIDEO]\n",
        "  print('output_video_path:', output_video_path)"
      ],
      "metadata": {
        "colab": {
          "base_uri": "https://localhost:8080/"
        },
        "id": "QikdL-gMpbV0",
        "outputId": "8dfdce56-7469-4667-ce54-dc86b4abd5b5"
      },
      "execution_count": 87,
      "outputs": [
        {
          "output_type": "stream",
          "name": "stderr",
          "text": [
            "2023-03-20 00:21:49,616 - modelscope - WARNING - task text-to-video-synthesis input definition is missing\n",
            "2023-03-20 00:22:51,746 - modelscope - WARNING - task text-to-video-synthesis output keys are missing\n"
          ]
        },
        {
          "output_type": "stream",
          "name": "stdout",
          "text": [
            "output_video_path: /tmp/tmpzoh0coku.mp4\n"
          ]
        }
      ]
    }
  ]
}
